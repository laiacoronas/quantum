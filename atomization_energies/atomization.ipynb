{
 "cells": [
  {
   "cell_type": "code",
   "execution_count": 6,
   "metadata": {},
   "outputs": [
    {
     "ename": "ImportError",
     "evalue": "cannot import name 'gto' from 'pyscf' (unknown location)",
     "output_type": "error",
     "traceback": [
      "\u001b[1;31m---------------------------------------------------------------------------\u001b[0m",
      "\u001b[1;31mImportError\u001b[0m                               Traceback (most recent call last)",
      "Cell \u001b[1;32mIn[6], line 2\u001b[0m\n\u001b[0;32m      1\u001b[0m \u001b[38;5;28;01mimport\u001b[39;00m \u001b[38;5;21;01mpyscf\u001b[39;00m\n\u001b[1;32m----> 2\u001b[0m \u001b[38;5;28;01mfrom\u001b[39;00m \u001b[38;5;21;01mpyscf\u001b[39;00m \u001b[38;5;28;01mimport\u001b[39;00m gto, scf\n\u001b[0;32m      4\u001b[0m \u001b[38;5;66;03m# Definir la molécula de H2\u001b[39;00m\n\u001b[0;32m      5\u001b[0m mol \u001b[38;5;241m=\u001b[39m gto\u001b[38;5;241m.\u001b[39mM(\n\u001b[0;32m      6\u001b[0m     atom \u001b[38;5;241m=\u001b[39m \u001b[38;5;124m'\u001b[39m\u001b[38;5;124mH 0 0 0; H 0 0 0.74\u001b[39m\u001b[38;5;124m'\u001b[39m,  \u001b[38;5;66;03m# Geometría de la molécula de H2\u001b[39;00m\n\u001b[0;32m      7\u001b[0m     basis \u001b[38;5;241m=\u001b[39m \u001b[38;5;124m'\u001b[39m\u001b[38;5;124msto-3g\u001b[39m\u001b[38;5;124m'\u001b[39m\n\u001b[0;32m      8\u001b[0m )\n",
      "\u001b[1;31mImportError\u001b[0m: cannot import name 'gto' from 'pyscf' (unknown location)"
     ]
    }
   ],
   "source": [
    "import pyscf\n",
    "from pyscf import gto, scf\n",
    "\n",
    "# Definir la molécula de H2\n",
    "mol = gto.M(\n",
    "    atom = 'H 0 0 0; H 0 0 0.74',  # Geometría de la molécula de H2\n",
    "    basis = 'sto-3g'\n",
    ")\n",
    "\n",
    "# Calcular la energía de Hartree-Fock de la molécula\n",
    "mf = scf.RHF(mol)\n",
    "mol_energy = mf.kernel()\n",
    "\n",
    "# Definir y calcular la energía de un átomo de H\n",
    "atom_H = gto.M(\n",
    "    atom = 'H 0 0 0',  # Geometría del átomo de H\n",
    "    basis = 'sto-3g'\n",
    ")\n",
    "\n",
    "mf_H = scf.RHF(atom_H)\n",
    "atom_energy_H = mf_H.kernel()\n",
    "\n",
    "# Calcular la energía de atomización\n",
    "atomization_energy = 2 * atom_energy_H - mol_energy\n",
    "\n",
    "print(f\"Energía de la molécula H2: {mol_energy} Hartrees\")\n",
    "print(f\"Energía del átomo H: {atom_energy_H} Hartrees\")\n",
    "print(f\"Energía de atomización: {atomization_energy} Hartrees\")\n"
   ]
  }
 ],
 "metadata": {
  "kernelspec": {
   "display_name": "envlaia",
   "language": "python",
   "name": "python3"
  },
  "language_info": {
   "codemirror_mode": {
    "name": "ipython",
    "version": 3
   },
   "file_extension": ".py",
   "mimetype": "text/x-python",
   "name": "python",
   "nbconvert_exporter": "python",
   "pygments_lexer": "ipython3",
   "version": "3.12.2"
  }
 },
 "nbformat": 4,
 "nbformat_minor": 2
}
