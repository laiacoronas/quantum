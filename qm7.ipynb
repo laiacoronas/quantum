{
 "cells": [
  {
   "cell_type": "code",
   "execution_count": 32,
   "metadata": {},
   "outputs": [],
   "source": [
    "import h5py\n",
    "fDFT = h5py.File('\\\\Users\\\\lclai\\\\Desktop\\\\qm7\\\\8000\\\\8000.hdf5', 'r')"
   ]
  },
  {
   "cell_type": "code",
   "execution_count": 33,
   "metadata": {},
   "outputs": [
    {
     "data": {
      "text/plain": [
       "<KeysViewHDF5 ['7001', '7002', '7003', '7004', '7005', '7006', '7007', '7008', '7009', '7010', '7011', '7012', '7013', '7014', '7015', '7016', '7017', '7018', '7019', '7020', '7021', '7022', '7023', '7024', '7025', '7026', '7027', '7028', '7029', '7030', '7031', '7032', '7033', '7034', '7035', '7036', '7037', '7038', '7039', '7040', '7041', '7042', '7043', '7044', '7045', '7046', '7047', '7048', '7049', '7050', '7051', '7052', '7053', '7054', '7055', '7056', '7057', '7058', '7059', '7060', '7061', '7062', '7063', '7064', '7065', '7070', '7073', '7074', '7075', '7076', '7077', '7078', '7079', '7080', '7081', '7082', '7083', '7084', '7085', '7086', '7087', '7088', '7089', '7090', '7091', '7092', '7093', '7094', '7095', '7096', '7097', '7098', '7099', '7100', '7101', '7102', '7103', '7104', '7105', '7106', '7107', '7108', '7109', '7110', '7111', '7112', '7113', '7114', '7115', '7116', '7117', '7118', '7119', '7120', '7121', '7122', '7123', '7124', '7125', '7126', '7127', '7128', '7129', '7130', '7131', '7132', '7133', '7134', '7135', '7136', '7137', '7138', '7139', '7140', '7141', '7142', '7143', '7144', '7145', '7146', '7147', '7148', '7149', '7150', '7151', '7152', '7153', '7154', '7155', '7156', '7157', '7158', '7159', '7161', '7162', '7163', '7164', '7165', '7166', '7167', '7168', '7169', '7170', '7171', '7172', '7173', '7174', '7175', '7176', '7177', '7178', '7179', '7180', '7181', '7182', '7183', '7184', '7185', '7186', '7187', '7188', '7189', '7190', '7191', '7192', '7194', '7195', '7196', '7197', '7198', '7199', '7200', '7201', '7202', '7203', '7204', '7205', '7206', '7207', '7208', '7209', '7210', '7211']>"
      ]
     },
     "execution_count": 33,
     "metadata": {},
     "output_type": "execute_result"
    }
   ],
   "source": [
    "fDFT.keys()"
   ]
  },
  {
   "cell_type": "code",
   "execution_count": 34,
   "metadata": {},
   "outputs": [
    {
     "data": {
      "text/plain": [
       "h5py._hl.group.Group"
      ]
     },
     "execution_count": 34,
     "metadata": {},
     "output_type": "execute_result"
    }
   ],
   "source": [
    "data = fDFT['7001']\n",
    "type(data)"
   ]
  },
  {
   "cell_type": "code",
   "execution_count": 35,
   "metadata": {},
   "outputs": [
    {
     "data": {
      "text/plain": [
       "<KeysViewHDF5 ['Geom-m7001-i1-c1-d1', 'Geom-m7001-i1-c1-d10', 'Geom-m7001-i1-c1-d100', 'Geom-m7001-i1-c1-d11', 'Geom-m7001-i1-c1-d12', 'Geom-m7001-i1-c1-d13', 'Geom-m7001-i1-c1-d14', 'Geom-m7001-i1-c1-d15', 'Geom-m7001-i1-c1-d16', 'Geom-m7001-i1-c1-d17', 'Geom-m7001-i1-c1-d18', 'Geom-m7001-i1-c1-d19', 'Geom-m7001-i1-c1-d2', 'Geom-m7001-i1-c1-d20', 'Geom-m7001-i1-c1-d21', 'Geom-m7001-i1-c1-d22', 'Geom-m7001-i1-c1-d23', 'Geom-m7001-i1-c1-d24', 'Geom-m7001-i1-c1-d25', 'Geom-m7001-i1-c1-d26', 'Geom-m7001-i1-c1-d27', 'Geom-m7001-i1-c1-d28', 'Geom-m7001-i1-c1-d29', 'Geom-m7001-i1-c1-d3', 'Geom-m7001-i1-c1-d30', 'Geom-m7001-i1-c1-d31', 'Geom-m7001-i1-c1-d32', 'Geom-m7001-i1-c1-d33', 'Geom-m7001-i1-c1-d34', 'Geom-m7001-i1-c1-d35', 'Geom-m7001-i1-c1-d36', 'Geom-m7001-i1-c1-d37', 'Geom-m7001-i1-c1-d38', 'Geom-m7001-i1-c1-d39', 'Geom-m7001-i1-c1-d4', 'Geom-m7001-i1-c1-d40', 'Geom-m7001-i1-c1-d41', 'Geom-m7001-i1-c1-d42', 'Geom-m7001-i1-c1-d43', 'Geom-m7001-i1-c1-d44', 'Geom-m7001-i1-c1-d45', 'Geom-m7001-i1-c1-d46', 'Geom-m7001-i1-c1-d47', 'Geom-m7001-i1-c1-d48', 'Geom-m7001-i1-c1-d49', 'Geom-m7001-i1-c1-d5', 'Geom-m7001-i1-c1-d50', 'Geom-m7001-i1-c1-d51', 'Geom-m7001-i1-c1-d52', 'Geom-m7001-i1-c1-d53', 'Geom-m7001-i1-c1-d54', 'Geom-m7001-i1-c1-d55', 'Geom-m7001-i1-c1-d56', 'Geom-m7001-i1-c1-d57', 'Geom-m7001-i1-c1-d58', 'Geom-m7001-i1-c1-d59', 'Geom-m7001-i1-c1-d6', 'Geom-m7001-i1-c1-d60', 'Geom-m7001-i1-c1-d61', 'Geom-m7001-i1-c1-d62', 'Geom-m7001-i1-c1-d63', 'Geom-m7001-i1-c1-d64', 'Geom-m7001-i1-c1-d65', 'Geom-m7001-i1-c1-d66', 'Geom-m7001-i1-c1-d67', 'Geom-m7001-i1-c1-d68', 'Geom-m7001-i1-c1-d69', 'Geom-m7001-i1-c1-d7', 'Geom-m7001-i1-c1-d70', 'Geom-m7001-i1-c1-d71', 'Geom-m7001-i1-c1-d72', 'Geom-m7001-i1-c1-d73', 'Geom-m7001-i1-c1-d74', 'Geom-m7001-i1-c1-d75', 'Geom-m7001-i1-c1-d76', 'Geom-m7001-i1-c1-d77', 'Geom-m7001-i1-c1-d78', 'Geom-m7001-i1-c1-d79', 'Geom-m7001-i1-c1-d8', 'Geom-m7001-i1-c1-d80', 'Geom-m7001-i1-c1-d81', 'Geom-m7001-i1-c1-d82', 'Geom-m7001-i1-c1-d83', 'Geom-m7001-i1-c1-d84', 'Geom-m7001-i1-c1-d85', 'Geom-m7001-i1-c1-d86', 'Geom-m7001-i1-c1-d87', 'Geom-m7001-i1-c1-d88', 'Geom-m7001-i1-c1-d89', 'Geom-m7001-i1-c1-d9', 'Geom-m7001-i1-c1-d90', 'Geom-m7001-i1-c1-d91', 'Geom-m7001-i1-c1-d92', 'Geom-m7001-i1-c1-d93', 'Geom-m7001-i1-c1-d94', 'Geom-m7001-i1-c1-d95', 'Geom-m7001-i1-c1-d96', 'Geom-m7001-i1-c1-d97', 'Geom-m7001-i1-c1-d98', 'Geom-m7001-i1-c1-d99', 'Geom-m7001-i1-c1-opt']>"
      ]
     },
     "execution_count": 35,
     "metadata": {},
     "output_type": "execute_result"
    }
   ],
   "source": [
    "data.keys()"
   ]
  },
  {
   "cell_type": "code",
   "execution_count": 36,
   "metadata": {},
   "outputs": [],
   "source": [
    "d = data['Geom-m7001-i1-c1-d11']"
   ]
  },
  {
   "cell_type": "code",
   "execution_count": 37,
   "metadata": {},
   "outputs": [
    {
     "data": {
      "text/plain": [
       "<KeysViewHDF5 ['DIP', 'HLgap', 'KSE', 'atC6', 'atNUM', 'atPOL', 'atXYZ', 'eAT', 'eC', 'eDFTB+MBD', 'eEE', 'eH', 'eKIN', 'eKSE', 'eL', 'eMBD', 'eNE', 'eNN', 'ePBE0', 'ePBE0+MBD', 'eTS', 'eX', 'eXC', 'eXX', 'hCHG', 'hDIP', 'hRAT', 'hVDIP', 'hVOL', 'mC6', 'mPOL', 'mTPOL', 'pbe0FOR', 'sMIT', 'sRMSD', 'totFOR', 'vDIP', 'vEQ', 'vIQ', 'vTQ', 'vdwFOR', 'vdwR']>"
      ]
     },
     "execution_count": 37,
     "metadata": {},
     "output_type": "execute_result"
    }
   ],
   "source": [
    "d.keys()"
   ]
  },
  {
   "cell_type": "code",
   "execution_count": 38,
   "metadata": {},
   "outputs": [],
   "source": [
    "d2 = d['atNUM']"
   ]
  },
  {
   "cell_type": "code",
   "execution_count": 39,
   "metadata": {},
   "outputs": [
    {
     "data": {
      "text/plain": [
       "h5py._hl.dataset.Dataset"
      ]
     },
     "execution_count": 39,
     "metadata": {},
     "output_type": "execute_result"
    }
   ],
   "source": [
    "type(d2)"
   ]
  },
  {
   "cell_type": "code",
   "execution_count": 40,
   "metadata": {},
   "outputs": [],
   "source": [
    "db = d2[:]"
   ]
  },
  {
   "cell_type": "code",
   "execution_count": 41,
   "metadata": {},
   "outputs": [
    {
     "name": "stdout",
     "output_type": "stream",
     "text": [
      "[ 6  6  6  6  7  6 16  1  1  1  1  1  1  1]\n"
     ]
    }
   ],
   "source": [
    "print(db)"
   ]
  }
 ],
 "metadata": {
  "kernelspec": {
   "display_name": "envlaia",
   "language": "python",
   "name": "python3"
  },
  "language_info": {
   "codemirror_mode": {
    "name": "ipython",
    "version": 3
   },
   "file_extension": ".py",
   "mimetype": "text/x-python",
   "name": "python",
   "nbconvert_exporter": "python",
   "pygments_lexer": "ipython3",
   "version": "3.12.2"
  }
 },
 "nbformat": 4,
 "nbformat_minor": 2
}
