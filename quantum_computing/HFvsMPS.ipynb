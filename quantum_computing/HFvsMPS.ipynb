{
 "cells": [
  {
   "cell_type": "code",
   "execution_count": null,
   "metadata": {},
   "outputs": [],
   "source": [
    "import pennylane as qml\n",
    "from pennylane import qchem\n",
    "from pennylane import numpy as np\n",
    "\n",
    "# generate the molecular Hamiltonian for H3+\n",
    "symbols = [\"O\", \"O\",\"N\", \"C\", \"C\", \"H\",\"H\",\"H\",\"H\",\"H\"]\n",
    "geometry = np.array([-2.4677,  0.9906,  -0.0151,\n",
    "-0.7252, -1.9381, -0.0074,\n",
    "3.4422, -0.1218,  -0.1347,\n",
    "1.0912,  1.1800,  0.0118,\n",
    "1.8146,  1.8633,  -1.1974,\n",
    "3.9811,  0.1337, -0.4000,\n",
    "4.2389,  0.3622,  0.5319,\n",
    "2.9907, -0.9121,  -0.0990,\n",
    "2.3309,  2.7976, -1.3343,\n",
    "0.6485,  1.0957, -1.7221])\n",
    "\n",
    "molecule = qchem.Molecule(symbols, geometry, charge=0)\n",
    "\n",
    "H2mol, qubits = qchem.molecular_hamiltonian(molecule)\n",
    "wires = list(range(qubits))\n",
    "dev = qml.device(\"default.qubit\", wires=qubits)\n",
    "\n",
    "# create all possible excitations in H3+\n",
    "singles, doubles = qchem.excitations(2, qubits)\n",
    "excitations = singles + doubles"
   ]
  },
  {
   "cell_type": "code",
   "execution_count": null,
   "metadata": {},
   "outputs": [],
   "source": [
    "@qml.qnode(dev)\n",
    "def circuit_VQE(theta, initial_state):\n",
    "    qml.StatePrep(initial_state, wires=wires)\n",
    "    for i, excitation in enumerate(excitations):\n",
    "        if len(excitation) == 4:\n",
    "            qml.DoubleExcitation(theta[i], wires=excitation)\n",
    "        else:\n",
    "            qml.SingleExcitation(theta[i], wires=excitation)\n",
    "    return qml.expval(H2mol)"
   ]
  },
  {
   "cell_type": "code",
   "execution_count": null,
   "metadata": {},
   "outputs": [],
   "source": [
    "opt = qml.GradientDescentOptimizer(stepsize=0.4)\n",
    "theta = np.array(np.zeros(len(excitations)), requires_grad=True)\n",
    "delta_E, iteration = 10, 0\n",
    "results_hf = []\n",
    "\n",
    "# run the VQE optimization loop until convergence threshold is reached\n",
    "while abs(delta_E) > 1e-5:\n",
    "    theta, prev_energy = opt.step_and_cost(circuit_VQE, theta, initial_state=wf_hf)\n",
    "    new_energy = circuit_VQE(theta, initial_state=wf_hf)\n",
    "    delta_E = new_energy - prev_energy\n",
    "    results_hf.append(new_energy)\n",
    "    if len(results_hf) % 5 == 0:\n",
    "        print(f\"Step = {len(results_hf)},  Energy = {new_energy:.6f} Ha\")\n",
    "print(f\"Starting with HF state took {len(results_hf)} iterations until convergence.\")"
   ]
  },
  {
   "cell_type": "code",
   "execution_count": null,
   "metadata": {},
   "outputs": [],
   "source": [
    "theta = np.array(np.zeros(len(excitations)), requires_grad=True)\n",
    "delta_E, iteration = 10, 0\n",
    "results_cisd = []\n",
    "\n",
    "while abs(delta_E) > 1e-5:\n",
    "    theta, prev_energy = opt.step_and_cost(circuit_VQE, theta, initial_state=wf_cisd)\n",
    "    new_energy = circuit_VQE(theta, initial_state=wf_cisd)\n",
    "    delta_E = new_energy - prev_energy\n",
    "    results_cisd.append(new_energy)\n",
    "    if len(results_cisd) % 5 == 0:\n",
    "        print(f\"Step = {len(results_cisd)},  Energy = {new_energy:.6f} Ha\")\n",
    "print(f\"Starting with CISD state took {len(results_cisd)} iterations until convergence.\")"
   ]
  },
  {
   "cell_type": "code",
   "execution_count": null,
   "metadata": {},
   "outputs": [],
   "source": [
    "import matplotlib.pyplot as plt\n",
    "\n",
    "fig, ax = plt.subplots()\n",
    "ax.plot(range(len(results_hf)), results_hf, color=\"r\", marker=\"o\", label=\"wf_hf\")\n",
    "ax.plot(range(len(results_cisd)), results_cisd, color=\"b\", marker=\"o\", label=\"wf_cisd\")\n",
    "ax.legend(fontsize=16)\n",
    "ax.tick_params(axis=\"both\", labelsize=16)\n",
    "ax.set_xlabel(\"Iteration\", fontsize=20)\n",
    "ax.set_ylabel(\"Energy, Ha\", fontsize=20)\n",
    "plt.tight_layout()\n",
    "plt.show()"
   ]
  }
 ],
 "metadata": {
  "kernelspec": {
   "display_name": "house",
   "language": "python",
   "name": "python3"
  },
  "language_info": {
   "codemirror_mode": {
    "name": "ipython",
    "version": 3
   },
   "file_extension": ".py",
   "mimetype": "text/x-python",
   "name": "python",
   "nbconvert_exporter": "python",
   "pygments_lexer": "ipython3",
   "version": "3.10.14"
  }
 },
 "nbformat": 4,
 "nbformat_minor": 2
}
