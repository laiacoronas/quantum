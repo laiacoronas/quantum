{
 "cells": [
  {
   "cell_type": "code",
   "execution_count": 2,
   "metadata": {
    "id": "XKDaOthrE4UC"
   },
   "outputs": [],
   "source": [
    "from pennylane import numpy as np\n",
    "sym = [\"O\", \"O\",\"N\", \"C\", \"C\", \"H\",\"H\",\"H\",\"H\",\"H\"]\n",
    "x = np.array([-2.4677,  0.9906,  -0.0151,\n",
    "-0.7252, -1.9381, -0.0074,\n",
    "3.4422, -0.1218,  -0.1347,\n",
    "1.0912,  1.1800,  0.0118,\n",
    "1.8146,  1.8633,  -1.1974,\n",
    "3.9811,  0.1337, -0.4000,\n",
    "4.2389,  0.3622,  0.5319,\n",
    "2.9907, -0.9121,  -0.0990,\n",
    "2.3309,  2.7976, -1.3343,\n",
    "0.6485,  1.0957, -1.7221])"
   ]
  },
  {
   "cell_type": "code",
   "execution_count": null,
   "metadata": {
    "colab": {
     "base_uri": "https://localhost:8080/",
     "height": 216
    },
    "id": "h_o2K8RMIfaz",
    "outputId": "cbc3312d-da25-44f3-c5ac-d46e042e3841"
   },
   "outputs": [
    {
     "ename": "NameError",
     "evalue": "name 'coordinates' is not defined",
     "output_type": "error",
     "traceback": [
      "\u001b[0;31m---------------------------------------------------------------------------\u001b[0m",
      "\u001b[0;31mNameError\u001b[0m                                 Traceback (most recent call last)",
      "\u001b[0;32m<ipython-input-6-6d06c7337881>\u001b[0m in \u001b[0;36m<cell line: 4>\u001b[0;34m()\u001b[0m\n\u001b[1;32m      4\u001b[0m H, qubits = qchem.molecular_hamiltonian(\n\u001b[1;32m      5\u001b[0m     \u001b[0msym\u001b[0m\u001b[0;34m,\u001b[0m\u001b[0;34m\u001b[0m\u001b[0;34m\u001b[0m\u001b[0m\n\u001b[0;32m----> 6\u001b[0;31m     \u001b[0mcoordinates\u001b[0m\u001b[0;34m,\u001b[0m\u001b[0;34m\u001b[0m\u001b[0;34m\u001b[0m\u001b[0m\n\u001b[0m\u001b[1;32m      7\u001b[0m     \u001b[0mcharge\u001b[0m\u001b[0;34m=\u001b[0m\u001b[0;36m0\u001b[0m\u001b[0;34m,\u001b[0m\u001b[0;34m\u001b[0m\u001b[0;34m\u001b[0m\u001b[0m\n\u001b[1;32m      8\u001b[0m     \u001b[0mmult\u001b[0m\u001b[0;34m=\u001b[0m\u001b[0;36m1\u001b[0m\u001b[0;34m,\u001b[0m\u001b[0;34m\u001b[0m\u001b[0;34m\u001b[0m\u001b[0m\n",
      "\u001b[0;31mNameError\u001b[0m: name 'coordinates' is not defined"
     ]
    }
   ],
   "source": [
    "import pennylane as qml\n",
    "from pennylane import qchem\n",
    "\n",
    "H, qubits = qchem.molecular_hamiltonian(\n",
    "    sym,\n",
    "    coor,\n",
    "    charge=0,\n",
    "    mult=1,\n",
    "    basis=\"sto-3g\" ,\n",
    "    active_electrons=4,\n",
    "    active_orbitals=4,\n",
    ")\n",
    "\n",
    "print(\"Number of qubits required to perform quantum simulations: {:}\".format(qubits))\n",
    "print(H)"
   ]
  },
  {
   "cell_type": "code",
   "execution_count": 1,
   "metadata": {
    "colab": {
     "base_uri": "https://localhost:8080/",
     "height": 176
    },
    "id": "UVRbwXqxrCft",
    "outputId": "1fa3d778-8b9c-48b6-bfb2-4c60efd46cc8"
   },
   "outputs": [
    {
     "ename": "NameError",
     "evalue": "name 'H' is not defined",
     "output_type": "error",
     "traceback": [
      "\u001b[0;31m---------------------------------------------------------------------------\u001b[0m",
      "\u001b[0;31mNameError\u001b[0m                                 Traceback (most recent call last)",
      "\u001b[0;32m<ipython-input-1-374e40ec40bb>\u001b[0m in \u001b[0;36m<cell line: 2>\u001b[0;34m()\u001b[0m\n\u001b[1;32m      1\u001b[0m \u001b[0;32mimport\u001b[0m \u001b[0mpickle\u001b[0m\u001b[0;34m\u001b[0m\u001b[0;34m\u001b[0m\u001b[0m\n\u001b[1;32m      2\u001b[0m \u001b[0;32mwith\u001b[0m \u001b[0mopen\u001b[0m\u001b[0;34m(\u001b[0m\u001b[0;34m\"hamiltoniandef.pkl\"\u001b[0m\u001b[0;34m,\u001b[0m \u001b[0;34m\"wb\"\u001b[0m\u001b[0;34m)\u001b[0m \u001b[0;32mas\u001b[0m \u001b[0mf\u001b[0m\u001b[0;34m:\u001b[0m\u001b[0;34m\u001b[0m\u001b[0;34m\u001b[0m\u001b[0m\n\u001b[0;32m----> 3\u001b[0;31m     \u001b[0mpickle\u001b[0m\u001b[0;34m.\u001b[0m\u001b[0mdump\u001b[0m\u001b[0;34m(\u001b[0m\u001b[0mH\u001b[0m\u001b[0;34m,\u001b[0m \u001b[0mf\u001b[0m\u001b[0;34m)\u001b[0m\u001b[0;34m\u001b[0m\u001b[0;34m\u001b[0m\u001b[0m\n\u001b[0m",
      "\u001b[0;31mNameError\u001b[0m: name 'H' is not defined"
     ]
    }
   ],
   "source": [
    "import pickle\n",
    "with open(\"hamiltoniandef.pkl\", \"wb\") as f:\n",
    "    pickle.dump(H, f)"
   ]
  },
  {
   "cell_type": "code",
   "execution_count": 3,
   "metadata": {
    "colab": {
     "base_uri": "https://localhost:8080/",
     "height": 176
    },
    "id": "4Igzc6MxrYGs",
    "outputId": "22a31c0d-2738-4170-827d-732304e39f23"
   },
   "outputs": [],
   "source": [
    "import pickle\n",
    "with open(\"C:\\\\Users\\\\lclai\\\\Desktop\\\\LDIG\\\\DB\\\\hamiltonians\\\\hamiltonian.pkl\", \"rb\") as f:\n",
    "    H = pickle.load(f)"
   ]
  },
  {
   "cell_type": "markdown",
   "metadata": {
    "id": "foSkt_1uuvns"
   },
   "source": [
    "# Nueva sección"
   ]
  },
  {
   "cell_type": "code",
   "execution_count": 5,
   "metadata": {
    "colab": {
     "base_uri": "https://localhost:8080/"
    },
    "id": "ENnlKMpmb9li",
    "outputId": "f9aca3ef-8376-48dc-b074-3e9f88d07bbe"
   },
   "outputs": [
    {
     "name": "stdout",
     "output_type": "stream",
     "text": [
      "Collecting pennylane==0.37\n",
      "  Downloading PennyLane-0.37.0-py3-none-any.whl.metadata (9.3 kB)\n",
      "Requirement already satisfied: quimb in c:\\users\\lclai\\miniconda3\\envs\\house\\lib\\site-packages (1.8.2)\n",
      "Requirement already satisfied: numpy<2.0 in c:\\users\\lclai\\miniconda3\\envs\\house\\lib\\site-packages (from pennylane==0.37) (1.26.4)\n",
      "Requirement already satisfied: scipy in c:\\users\\lclai\\miniconda3\\envs\\house\\lib\\site-packages (from pennylane==0.37) (1.10.1)\n",
      "Requirement already satisfied: networkx in c:\\users\\lclai\\miniconda3\\envs\\house\\lib\\site-packages (from pennylane==0.37) (2.8.8)\n",
      "Requirement already satisfied: rustworkx in c:\\users\\lclai\\miniconda3\\envs\\house\\lib\\site-packages (from pennylane==0.37) (0.14.0)\n",
      "Requirement already satisfied: autograd in c:\\users\\lclai\\miniconda3\\envs\\house\\lib\\site-packages (from pennylane==0.37) (1.6.2)\n",
      "Requirement already satisfied: toml in c:\\users\\lclai\\miniconda3\\envs\\house\\lib\\site-packages (from pennylane==0.37) (0.10.2)\n",
      "Requirement already satisfied: appdirs in c:\\users\\lclai\\miniconda3\\envs\\house\\lib\\site-packages (from pennylane==0.37) (1.4.4)\n",
      "Requirement already satisfied: semantic-version>=2.7 in c:\\users\\lclai\\miniconda3\\envs\\house\\lib\\site-packages (from pennylane==0.37) (2.10.0)\n",
      "Requirement already satisfied: autoray>=0.6.11 in c:\\users\\lclai\\miniconda3\\envs\\house\\lib\\site-packages (from pennylane==0.37) (0.6.12)\n",
      "Requirement already satisfied: cachetools in c:\\users\\lclai\\miniconda3\\envs\\house\\lib\\site-packages (from pennylane==0.37) (5.3.2)\n",
      "Collecting pennylane-lightning>=0.37 (from pennylane==0.37)\n",
      "  Downloading PennyLane_Lightning-0.39.0-cp310-cp310-win_amd64.whl.metadata (26 kB)\n",
      "Requirement already satisfied: requests in c:\\users\\lclai\\miniconda3\\envs\\house\\lib\\site-packages (from pennylane==0.37) (2.31.0)\n",
      "Requirement already satisfied: typing-extensions in c:\\users\\lclai\\miniconda3\\envs\\house\\lib\\site-packages (from pennylane==0.37) (4.9.0)\n",
      "Requirement already satisfied: packaging in c:\\users\\lclai\\miniconda3\\envs\\house\\lib\\site-packages (from pennylane==0.37) (21.3)\n",
      "Requirement already satisfied: cotengra>=0.6.1 in c:\\users\\lclai\\miniconda3\\envs\\house\\lib\\site-packages (from quimb) (0.6.2)\n",
      "Requirement already satisfied: cytoolz>=0.8.0 in c:\\users\\lclai\\miniconda3\\envs\\house\\lib\\site-packages (from quimb) (1.0.0)\n",
      "Requirement already satisfied: numba>=0.39 in c:\\users\\lclai\\miniconda3\\envs\\house\\lib\\site-packages (from quimb) (0.60.0)\n",
      "Requirement already satisfied: psutil>=4.3.1 in c:\\users\\lclai\\miniconda3\\envs\\house\\lib\\site-packages (from quimb) (5.9.8)\n",
      "Requirement already satisfied: tqdm>=4 in c:\\users\\lclai\\miniconda3\\envs\\house\\lib\\site-packages (from quimb) (4.67.1)\n",
      "Requirement already satisfied: toolz>=0.8.0 in c:\\users\\lclai\\miniconda3\\envs\\house\\lib\\site-packages (from cytoolz>=0.8.0->quimb) (0.12.1)\n",
      "Requirement already satisfied: llvmlite<0.44,>=0.43.0dev0 in c:\\users\\lclai\\miniconda3\\envs\\house\\lib\\site-packages (from numba>=0.39->quimb) (0.43.0)\n",
      "Requirement already satisfied: colorama in c:\\users\\lclai\\miniconda3\\envs\\house\\lib\\site-packages (from tqdm>=4->quimb) (0.4.6)\n",
      "Requirement already satisfied: future>=0.15.2 in c:\\users\\lclai\\miniconda3\\envs\\house\\lib\\site-packages (from autograd->pennylane==0.37) (0.18.3)\n",
      "Requirement already satisfied: pyparsing!=3.0.5,>=2.0.2 in c:\\users\\lclai\\miniconda3\\envs\\house\\lib\\site-packages (from packaging->pennylane==0.37) (3.1.1)\n",
      "Requirement already satisfied: charset-normalizer<4,>=2 in c:\\users\\lclai\\miniconda3\\envs\\house\\lib\\site-packages (from requests->pennylane==0.37) (3.3.2)\n",
      "Requirement already satisfied: idna<4,>=2.5 in c:\\users\\lclai\\miniconda3\\envs\\house\\lib\\site-packages (from requests->pennylane==0.37) (3.6)\n",
      "Requirement already satisfied: urllib3<3,>=1.21.1 in c:\\users\\lclai\\miniconda3\\envs\\house\\lib\\site-packages (from requests->pennylane==0.37) (2.2.1)\n",
      "Requirement already satisfied: certifi>=2017.4.17 in c:\\users\\lclai\\miniconda3\\envs\\house\\lib\\site-packages (from requests->pennylane==0.37) (2024.2.2)\n",
      "Downloading PennyLane-0.37.0-py3-none-any.whl (1.8 MB)\n",
      "   ---------------------------------------- 0.0/1.8 MB ? eta -:--:--\n",
      "   ----------- ---------------------------- 0.5/1.8 MB 3.4 MB/s eta 0:00:01\n",
      "   ----------------- ---------------------- 0.8/1.8 MB 2.4 MB/s eta 0:00:01\n",
      "   ----------------------------- ---------- 1.3/1.8 MB 2.6 MB/s eta 0:00:01\n",
      "   ---------------------------------------- 1.8/1.8 MB 2.4 MB/s eta 0:00:00\n",
      "Downloading PennyLane_Lightning-0.39.0-cp310-cp310-win_amd64.whl (5.5 MB)\n",
      "   ---------------------------------------- 0.0/5.5 MB ? eta -:--:--\n",
      "   - -------------------------------------- 0.3/5.5 MB ? eta -:--:--\n",
      "   ----- ---------------------------------- 0.8/5.5 MB 1.6 MB/s eta 0:00:03\n",
      "   ------- -------------------------------- 1.0/5.5 MB 1.9 MB/s eta 0:00:03\n",
      "   --------- ------------------------------ 1.3/5.5 MB 1.7 MB/s eta 0:00:03\n",
      "   ------------- -------------------------- 1.8/5.5 MB 1.8 MB/s eta 0:00:03\n",
      "   --------------- ------------------------ 2.1/5.5 MB 1.7 MB/s eta 0:00:03\n",
      "   ------------------ --------------------- 2.6/5.5 MB 1.7 MB/s eta 0:00:02\n",
      "   ---------------------- ----------------- 3.1/5.5 MB 1.8 MB/s eta 0:00:02\n",
      "   ------------------------ --------------- 3.4/5.5 MB 1.8 MB/s eta 0:00:02\n",
      "   ---------------------------- ----------- 3.9/5.5 MB 1.8 MB/s eta 0:00:01\n",
      "   -------------------------------- ------- 4.5/5.5 MB 1.9 MB/s eta 0:00:01\n",
      "   ------------------------------------ --- 5.0/5.5 MB 2.0 MB/s eta 0:00:01\n",
      "   ---------------------------------------- 5.5/5.5 MB 2.0 MB/s eta 0:00:00\n",
      "Installing collected packages: pennylane-lightning, pennylane\n",
      "  Attempting uninstall: pennylane-lightning\n",
      "    Found existing installation: PennyLane-Lightning 0.34.0\n",
      "    Uninstalling PennyLane-Lightning-0.34.0:\n",
      "      Successfully uninstalled PennyLane-Lightning-0.34.0\n",
      "  Attempting uninstall: pennylane\n",
      "    Found existing installation: PennyLane 0.34.0\n",
      "    Uninstalling PennyLane-0.34.0:\n",
      "      Successfully uninstalled PennyLane-0.34.0\n",
      "Successfully installed pennylane-0.37.0 pennylane-lightning-0.39.0\n"
     ]
    },
    {
     "name": "stderr",
     "output_type": "stream",
     "text": [
      "\n",
      "[notice] A new release of pip is available: 24.2 -> 24.3.1\n",
      "[notice] To update, run: python.exe -m pip install --upgrade pip\n"
     ]
    }
   ],
   "source": [
    "!pip install pennylane==0.37 quimb"
   ]
  },
  {
   "cell_type": "code",
   "execution_count": 7,
   "metadata": {
    "colab": {
     "base_uri": "https://localhost:8080/"
    },
    "id": "ENnlKMpmb9li",
    "outputId": "f9aca3ef-8376-48dc-b074-3e9f88d07bbe"
   },
   "outputs": [
    {
     "ename": "ImportError",
     "evalue": "cannot import name 'LinearCombination' from 'pennylane.ops' (c:\\Users\\lclai\\miniconda3\\envs\\house\\lib\\site-packages\\pennylane\\ops\\__init__.py)",
     "output_type": "error",
     "traceback": [
      "\u001b[1;31m---------------------------------------------------------------------------\u001b[0m",
      "\u001b[1;31mImportError\u001b[0m                               Traceback (most recent call last)",
      "Cell \u001b[1;32mIn[7], line 14\u001b[0m\n\u001b[0;32m      5\u001b[0m kwargs_mps \u001b[38;5;241m=\u001b[39m {\n\u001b[0;32m      6\u001b[0m     \u001b[38;5;66;03m# Maximum bond dimension of the MPS\u001b[39;00m\n\u001b[0;32m      7\u001b[0m     \u001b[38;5;124m\"\u001b[39m\u001b[38;5;124mmax_bond_dim\u001b[39m\u001b[38;5;124m\"\u001b[39m: \u001b[38;5;241m50\u001b[39m,\n\u001b[1;32m   (...)\u001b[0m\n\u001b[0;32m     11\u001b[0m     \u001b[38;5;124m\"\u001b[39m\u001b[38;5;124mcontract\u001b[39m\u001b[38;5;124m\"\u001b[39m: \u001b[38;5;124m\"\u001b[39m\u001b[38;5;124mauto-mps\u001b[39m\u001b[38;5;124m\"\u001b[39m,\n\u001b[0;32m     12\u001b[0m }\n\u001b[0;32m     13\u001b[0m \u001b[38;5;66;03m#dev = qml.device(\"default.qubit\", wires=qubits)\u001b[39;00m\n\u001b[1;32m---> 14\u001b[0m dev \u001b[38;5;241m=\u001b[39m qml\u001b[38;5;241m.\u001b[39mdevice(\u001b[38;5;124m\"\u001b[39m\u001b[38;5;124mdefault.tensor\u001b[39m\u001b[38;5;124m\"\u001b[39m, method\u001b[38;5;241m=\u001b[39m\u001b[38;5;124m\"\u001b[39m\u001b[38;5;124mmps\u001b[39m\u001b[38;5;124m\"\u001b[39m, \u001b[38;5;241m*\u001b[39m\u001b[38;5;241m*\u001b[39mkwargs_mps)\n\u001b[0;32m     15\u001b[0m \u001b[38;5;28;01mfrom\u001b[39;00m \u001b[38;5;21;01mpennylane\u001b[39;00m \u001b[38;5;28;01mimport\u001b[39;00m numpy \u001b[38;5;28;01mas\u001b[39;00m np\n\u001b[0;32m     16\u001b[0m theta \u001b[38;5;241m=\u001b[39m np\u001b[38;5;241m.\u001b[39marray(\u001b[38;5;241m0.0\u001b[39m, requires_grad \u001b[38;5;241m=\u001b[39m \u001b[38;5;28;01mTrue\u001b[39;00m)\n",
      "File \u001b[1;32mc:\\Users\\lclai\\miniconda3\\envs\\house\\lib\\site-packages\\pennylane\\__init__.py:359\u001b[0m, in \u001b[0;36mdevice\u001b[1;34m(name, *args, **kwargs)\u001b[0m\n\u001b[0;32m    213\u001b[0m \u001b[38;5;28;01mdef\u001b[39;00m \u001b[38;5;21mdevice\u001b[39m(name, \u001b[38;5;241m*\u001b[39margs, \u001b[38;5;241m*\u001b[39m\u001b[38;5;241m*\u001b[39mkwargs):\n\u001b[0;32m    214\u001b[0m \u001b[38;5;250m    \u001b[39m\u001b[38;5;124mr\u001b[39m\u001b[38;5;124;03m\"\"\"\u001b[39;00m\n\u001b[0;32m    215\u001b[0m \u001b[38;5;124;03m    Load a device and return the instance.\u001b[39;00m\n\u001b[0;32m    216\u001b[0m \n\u001b[0;32m    217\u001b[0m \u001b[38;5;124;03m    This function is used to load a particular quantum device,\u001b[39;00m\n\u001b[0;32m    218\u001b[0m \u001b[38;5;124;03m    which can then be used to construct QNodes.\u001b[39;00m\n\u001b[0;32m    219\u001b[0m \n\u001b[0;32m    220\u001b[0m \u001b[38;5;124;03m    PennyLane comes with support for the following devices:\u001b[39;00m\n\u001b[0;32m    221\u001b[0m \n\u001b[0;32m    222\u001b[0m \u001b[38;5;124;03m    * :mod:`'default.qubit' <pennylane.devices.default_qubit>`: a simple\u001b[39;00m\n\u001b[0;32m    223\u001b[0m \u001b[38;5;124;03m      state simulator of qubit-based quantum circuit architectures.\u001b[39;00m\n\u001b[0;32m    224\u001b[0m \n\u001b[0;32m    225\u001b[0m \u001b[38;5;124;03m    * :mod:`'default.mixed' <pennylane.devices.default_mixed>`: a mixed-state\u001b[39;00m\n\u001b[0;32m    226\u001b[0m \u001b[38;5;124;03m      simulator of qubit-based quantum circuit architectures.\u001b[39;00m\n\u001b[0;32m    227\u001b[0m \n\u001b[0;32m    228\u001b[0m \u001b[38;5;124;03m    * ``'lightning.qubit'``: a more performant state simulator of qubit-based\u001b[39;00m\n\u001b[0;32m    229\u001b[0m \u001b[38;5;124;03m      quantum circuit architectures written in C++.\u001b[39;00m\n\u001b[0;32m    230\u001b[0m \n\u001b[0;32m    231\u001b[0m \u001b[38;5;124;03m    * :mod:`'default.qutrit' <pennylane.devices.default_qutrit>`: a simple\u001b[39;00m\n\u001b[0;32m    232\u001b[0m \u001b[38;5;124;03m      state simulator of qutrit-based quantum circuit architectures.\u001b[39;00m\n\u001b[0;32m    233\u001b[0m \n\u001b[0;32m    234\u001b[0m \u001b[38;5;124;03m    * :mod:`'default.qutrit.mixed' <pennylane.devices.default_qutrit_mixed>`: a\u001b[39;00m\n\u001b[0;32m    235\u001b[0m \u001b[38;5;124;03m      mixed-state simulator of qutrit-based quantum circuit architectures.\u001b[39;00m\n\u001b[0;32m    236\u001b[0m \n\u001b[0;32m    237\u001b[0m \u001b[38;5;124;03m    * :mod:`'default.gaussian' <pennylane.devices.default_gaussian>`: a simple simulator\u001b[39;00m\n\u001b[0;32m    238\u001b[0m \u001b[38;5;124;03m      of Gaussian states and operations on continuous-variable circuit architectures.\u001b[39;00m\n\u001b[0;32m    239\u001b[0m \n\u001b[0;32m    240\u001b[0m \u001b[38;5;124;03m    * :mod:`'default.clifford' <pennylane.devices.default_clifford>`: an efficient\u001b[39;00m\n\u001b[0;32m    241\u001b[0m \u001b[38;5;124;03m      simulator of Clifford circuits.\u001b[39;00m\n\u001b[0;32m    242\u001b[0m \n\u001b[0;32m    243\u001b[0m \u001b[38;5;124;03m    * :mod:`'default.tensor' <pennylane.devices.default_tensor>`: a simulator\u001b[39;00m\n\u001b[0;32m    244\u001b[0m \u001b[38;5;124;03m      of quantum circuits based on tensor networks.\u001b[39;00m\n\u001b[0;32m    245\u001b[0m \n\u001b[0;32m    246\u001b[0m \u001b[38;5;124;03m    Additional devices are supported through plugins — see\u001b[39;00m\n\u001b[0;32m    247\u001b[0m \u001b[38;5;124;03m    the  `available plugins <https://pennylane.ai/plugins.html>`_ for more\u001b[39;00m\n\u001b[0;32m    248\u001b[0m \u001b[38;5;124;03m    details. To list all currently installed devices, run\u001b[39;00m\n\u001b[0;32m    249\u001b[0m \u001b[38;5;124;03m    :func:`qml.about <pennylane.about>`.\u001b[39;00m\n\u001b[0;32m    250\u001b[0m \n\u001b[0;32m    251\u001b[0m \u001b[38;5;124;03m    Args:\u001b[39;00m\n\u001b[0;32m    252\u001b[0m \u001b[38;5;124;03m        name (str): the name of the device to load\u001b[39;00m\n\u001b[0;32m    253\u001b[0m \u001b[38;5;124;03m        wires (int): the number of wires (subsystems) to initialise\u001b[39;00m\n\u001b[0;32m    254\u001b[0m \u001b[38;5;124;03m            the device with. Note that this is optional for certain\u001b[39;00m\n\u001b[0;32m    255\u001b[0m \u001b[38;5;124;03m            devices, such as ``default.qubit``\u001b[39;00m\n\u001b[0;32m    256\u001b[0m \n\u001b[0;32m    257\u001b[0m \u001b[38;5;124;03m    Keyword Args:\u001b[39;00m\n\u001b[0;32m    258\u001b[0m \u001b[38;5;124;03m        config (pennylane.Configuration): a PennyLane configuration object\u001b[39;00m\n\u001b[0;32m    259\u001b[0m \u001b[38;5;124;03m            that contains global and/or device specific configurations.\u001b[39;00m\n\u001b[0;32m    260\u001b[0m \u001b[38;5;124;03m        custom_decomps (Dict[Union(str, Operator), Callable]): Custom\u001b[39;00m\n\u001b[0;32m    261\u001b[0m \u001b[38;5;124;03m            decompositions to be applied by the device at runtime.\u001b[39;00m\n\u001b[0;32m    262\u001b[0m \u001b[38;5;124;03m        decomp_depth (int): For when custom decompositions are specified,\u001b[39;00m\n\u001b[0;32m    263\u001b[0m \u001b[38;5;124;03m            the maximum expansion depth used by the expansion function.\u001b[39;00m\n\u001b[0;32m    264\u001b[0m \n\u001b[0;32m    265\u001b[0m \u001b[38;5;124;03m    All devices must be loaded by specifying their **short-name** as listed above,\u001b[39;00m\n\u001b[0;32m    266\u001b[0m \u001b[38;5;124;03m    followed by the **wires** (subsystems) you wish to initialize. The ``wires``\u001b[39;00m\n\u001b[0;32m    267\u001b[0m \u001b[38;5;124;03m    argument can be an integer, in which case the wires of the device are addressed\u001b[39;00m\n\u001b[0;32m    268\u001b[0m \u001b[38;5;124;03m    by consecutive integers:\u001b[39;00m\n\u001b[0;32m    269\u001b[0m \n\u001b[0;32m    270\u001b[0m \u001b[38;5;124;03m    .. code-block:: python\u001b[39;00m\n\u001b[0;32m    271\u001b[0m \n\u001b[0;32m    272\u001b[0m \u001b[38;5;124;03m        dev = qml.device('default.qubit', wires=5)\u001b[39;00m\n\u001b[0;32m    273\u001b[0m \n\u001b[0;32m    274\u001b[0m \u001b[38;5;124;03m        def circuit():\u001b[39;00m\n\u001b[0;32m    275\u001b[0m \u001b[38;5;124;03m           qml.Hadamard(wires=1)\u001b[39;00m\n\u001b[0;32m    276\u001b[0m \u001b[38;5;124;03m           qml.Hadamard(wires=[0])\u001b[39;00m\n\u001b[0;32m    277\u001b[0m \u001b[38;5;124;03m           qml.CNOT(wires=[3, 4])\u001b[39;00m\n\u001b[0;32m    278\u001b[0m \u001b[38;5;124;03m           ...\u001b[39;00m\n\u001b[0;32m    279\u001b[0m \n\u001b[0;32m    280\u001b[0m \u001b[38;5;124;03m    The ``wires`` argument can also be a sequence of unique numbers or strings, specifying custom wire labels\u001b[39;00m\n\u001b[0;32m    281\u001b[0m \u001b[38;5;124;03m    that the user employs to address the wires:\u001b[39;00m\n\u001b[0;32m    282\u001b[0m \n\u001b[0;32m    283\u001b[0m \u001b[38;5;124;03m    .. code-block:: python\u001b[39;00m\n\u001b[0;32m    284\u001b[0m \n\u001b[0;32m    285\u001b[0m \u001b[38;5;124;03m        dev = qml.device('default.qubit', wires=['ancilla', 'q11', 'q12', -1, 1])\u001b[39;00m\n\u001b[0;32m    286\u001b[0m \n\u001b[0;32m    287\u001b[0m \u001b[38;5;124;03m        def circuit():\u001b[39;00m\n\u001b[0;32m    288\u001b[0m \u001b[38;5;124;03m           qml.Hadamard(wires='q11')\u001b[39;00m\n\u001b[0;32m    289\u001b[0m \u001b[38;5;124;03m           qml.Hadamard(wires=['ancilla'])\u001b[39;00m\n\u001b[0;32m    290\u001b[0m \u001b[38;5;124;03m           qml.CNOT(wires=['q12', -1])\u001b[39;00m\n\u001b[0;32m    291\u001b[0m \u001b[38;5;124;03m           ...\u001b[39;00m\n\u001b[0;32m    292\u001b[0m \n\u001b[0;32m    293\u001b[0m \u001b[38;5;124;03m    On some newer devices, such as ``default.qubit``, the ``wires`` argument can be omitted altogether,\u001b[39;00m\n\u001b[0;32m    294\u001b[0m \u001b[38;5;124;03m    and instead the wires will be computed when executing a circuit depending on its contents.\u001b[39;00m\n\u001b[0;32m    295\u001b[0m \n\u001b[0;32m    296\u001b[0m \u001b[38;5;124;03m    >>> dev = qml.device(\"default.qubit\")\u001b[39;00m\n\u001b[0;32m    297\u001b[0m \n\u001b[0;32m    298\u001b[0m \u001b[38;5;124;03m    Most devices accept a ``shots`` argument which specifies how many circuit executions\u001b[39;00m\n\u001b[0;32m    299\u001b[0m \u001b[38;5;124;03m    are used to estimate stochastic return values. As an example, ``qml.sample()`` measurements\u001b[39;00m\n\u001b[0;32m    300\u001b[0m \u001b[38;5;124;03m    will return as many samples as specified in the shots argument. The shots argument can be\u001b[39;00m\n\u001b[0;32m    301\u001b[0m \u001b[38;5;124;03m    changed on a per-call basis using the built-in ``shots`` keyword argument. Note that the\u001b[39;00m\n\u001b[0;32m    302\u001b[0m \u001b[38;5;124;03m    ``shots`` argument can be a single integer or a list of shot values.\u001b[39;00m\n\u001b[0;32m    303\u001b[0m \n\u001b[0;32m    304\u001b[0m \u001b[38;5;124;03m    .. code-block:: python\u001b[39;00m\n\u001b[0;32m    305\u001b[0m \n\u001b[0;32m    306\u001b[0m \u001b[38;5;124;03m        dev = qml.device('default.qubit', wires=1, shots=10)\u001b[39;00m\n\u001b[0;32m    307\u001b[0m \n\u001b[0;32m    308\u001b[0m \u001b[38;5;124;03m        @qml.qnode(dev)\u001b[39;00m\n\u001b[0;32m    309\u001b[0m \u001b[38;5;124;03m        def circuit(a):\u001b[39;00m\n\u001b[0;32m    310\u001b[0m \u001b[38;5;124;03m          qml.RX(a, wires=0)\u001b[39;00m\n\u001b[0;32m    311\u001b[0m \u001b[38;5;124;03m          return qml.sample(qml.Z(0))\u001b[39;00m\n\u001b[0;32m    312\u001b[0m \n\u001b[0;32m    313\u001b[0m \u001b[38;5;124;03m    >>> circuit(0.8)  # 10 samples are returned\u001b[39;00m\n\u001b[0;32m    314\u001b[0m \u001b[38;5;124;03m    array([ 1,  1,  1,  1, -1,  1,  1, -1,  1,  1])\u001b[39;00m\n\u001b[0;32m    315\u001b[0m \u001b[38;5;124;03m    >>> circuit(0.8, shots=[3, 4, 4])   # default is overwritten for this call\u001b[39;00m\n\u001b[0;32m    316\u001b[0m \u001b[38;5;124;03m    (array([1, 1, 1]), array([ 1, -1,  1,  1]), array([1, 1, 1, 1]))\u001b[39;00m\n\u001b[0;32m    317\u001b[0m \u001b[38;5;124;03m    >>> circuit(0.8)  # back to default of 10 samples\u001b[39;00m\n\u001b[0;32m    318\u001b[0m \u001b[38;5;124;03m    array([ 1, -1,  1,  1, -1,  1,  1,  1,  1,  1])\u001b[39;00m\n\u001b[0;32m    319\u001b[0m \n\u001b[0;32m    320\u001b[0m \u001b[38;5;124;03m    When constructing a device, we may optionally pass a dictionary of custom\u001b[39;00m\n\u001b[0;32m    321\u001b[0m \u001b[38;5;124;03m    decompositions to be applied to certain operations upon device execution.\u001b[39;00m\n\u001b[0;32m    322\u001b[0m \u001b[38;5;124;03m    This is useful for enabling support of gates on devices where they would normally\u001b[39;00m\n\u001b[0;32m    323\u001b[0m \u001b[38;5;124;03m    be unsupported.\u001b[39;00m\n\u001b[0;32m    324\u001b[0m \n\u001b[0;32m    325\u001b[0m \u001b[38;5;124;03m    For example, suppose we are running on an ion trap device which does not\u001b[39;00m\n\u001b[0;32m    326\u001b[0m \u001b[38;5;124;03m    natively implement the CNOT gate, but we would still like to write our\u001b[39;00m\n\u001b[0;32m    327\u001b[0m \u001b[38;5;124;03m    circuits in terms of CNOTs. On a ion trap device, CNOT can be implemented\u001b[39;00m\n\u001b[0;32m    328\u001b[0m \u001b[38;5;124;03m    using the ``IsingXX`` gate. We first define a decomposition function\u001b[39;00m\n\u001b[0;32m    329\u001b[0m \u001b[38;5;124;03m    (such functions have the signature ``decomposition(*params, wires)``):\u001b[39;00m\n\u001b[0;32m    330\u001b[0m \n\u001b[0;32m    331\u001b[0m \u001b[38;5;124;03m    .. code-block:: python\u001b[39;00m\n\u001b[0;32m    332\u001b[0m \n\u001b[0;32m    333\u001b[0m \u001b[38;5;124;03m        def ion_trap_cnot(wires, **_):\u001b[39;00m\n\u001b[0;32m    334\u001b[0m \u001b[38;5;124;03m            return [\u001b[39;00m\n\u001b[0;32m    335\u001b[0m \u001b[38;5;124;03m                qml.RY(np.pi/2, wires=wires[0]),\u001b[39;00m\n\u001b[0;32m    336\u001b[0m \u001b[38;5;124;03m                qml.IsingXX(np.pi/2, wires=wires),\u001b[39;00m\n\u001b[0;32m    337\u001b[0m \u001b[38;5;124;03m                qml.RX(-np.pi/2, wires=wires[0]),\u001b[39;00m\n\u001b[0;32m    338\u001b[0m \u001b[38;5;124;03m                qml.RY(-np.pi/2, wires=wires[0]),\u001b[39;00m\n\u001b[0;32m    339\u001b[0m \u001b[38;5;124;03m                qml.RY(-np.pi/2, wires=wires[1])\u001b[39;00m\n\u001b[0;32m    340\u001b[0m \u001b[38;5;124;03m            ]\u001b[39;00m\n\u001b[0;32m    341\u001b[0m \n\u001b[0;32m    342\u001b[0m \u001b[38;5;124;03m    Next, we create a device, and a QNode for testing. When constructing the\u001b[39;00m\n\u001b[0;32m    343\u001b[0m \u001b[38;5;124;03m    QNode, we can set the expansion strategy to ``\"device\"`` to ensure the\u001b[39;00m\n\u001b[0;32m    344\u001b[0m \u001b[38;5;124;03m    decomposition is applied and will be viewable when we draw the circuit.\u001b[39;00m\n\u001b[0;32m    345\u001b[0m \u001b[38;5;124;03m    Note that custom decompositions should accept keyword arguments even when\u001b[39;00m\n\u001b[0;32m    346\u001b[0m \u001b[38;5;124;03m    it is not used.\u001b[39;00m\n\u001b[0;32m    347\u001b[0m \n\u001b[0;32m    348\u001b[0m \u001b[38;5;124;03m    .. code-block:: python\u001b[39;00m\n\u001b[0;32m    349\u001b[0m \n\u001b[0;32m    350\u001b[0m \u001b[38;5;124;03m        # As the CNOT gate normally has no decomposition, we can use default.qubit\u001b[39;00m\n\u001b[0;32m    351\u001b[0m \u001b[38;5;124;03m        # here for expository purposes.\u001b[39;00m\n\u001b[0;32m    352\u001b[0m \u001b[38;5;124;03m        dev = qml.device(\u001b[39;00m\n\u001b[0;32m    353\u001b[0m \u001b[38;5;124;03m            'default.qubit', wires=2, custom_decomps={\"CNOT\" : ion_trap_cnot}\u001b[39;00m\n\u001b[0;32m    354\u001b[0m \u001b[38;5;124;03m        )\u001b[39;00m\n\u001b[0;32m    355\u001b[0m \n\u001b[0;32m    356\u001b[0m \u001b[38;5;124;03m        @qml.qnode(dev, expansion_strategy=\"device\")\u001b[39;00m\n\u001b[0;32m    357\u001b[0m \u001b[38;5;124;03m        def run_cnot():\u001b[39;00m\n\u001b[0;32m    358\u001b[0m \u001b[38;5;124;03m            qml.CNOT(wires=[0, 1])\u001b[39;00m\n\u001b[1;32m--> 359\u001b[0m \u001b[38;5;124;03m            return qml.expval(qml.X(1))\u001b[39;00m\n\u001b[0;32m    360\u001b[0m \n\u001b[0;32m    361\u001b[0m \u001b[38;5;124;03m    >>> print(qml.draw(run_cnot)())\u001b[39;00m\n\u001b[0;32m    362\u001b[0m \u001b[38;5;124;03m    0: ──RY(1.57)─╭IsingXX(1.57)──RX(-1.57)──RY(-1.57)─┤\u001b[39;00m\n\u001b[0;32m    363\u001b[0m \u001b[38;5;124;03m    1: ───────────╰IsingXX(1.57)──RY(-1.57)────────────┤  <X>\u001b[39;00m\n\u001b[0;32m    364\u001b[0m \n\u001b[0;32m    365\u001b[0m \u001b[38;5;124;03m    Some devices may accept additional arguments. For instance,\u001b[39;00m\n\u001b[0;32m    366\u001b[0m \u001b[38;5;124;03m    ``default.gaussian`` accepts the keyword argument ``hbar``, to set\u001b[39;00m\n\u001b[0;32m    367\u001b[0m \u001b[38;5;124;03m    the convention used in the commutation relation :math:`[\\x,\\p]=i\\hbar`\u001b[39;00m\n\u001b[0;32m    368\u001b[0m \u001b[38;5;124;03m    (by default set to 2).\u001b[39;00m\n\u001b[0;32m    369\u001b[0m \n\u001b[0;32m    370\u001b[0m \u001b[38;5;124;03m    Please refer to the documentation for the individual devices to see any\u001b[39;00m\n\u001b[0;32m    371\u001b[0m \u001b[38;5;124;03m    additional arguments that might be required or supported.\u001b[39;00m\n\u001b[0;32m    372\u001b[0m \u001b[38;5;124;03m    \"\"\"\u001b[39;00m\n\u001b[0;32m    373\u001b[0m     \u001b[38;5;28;01mif\u001b[39;00m name \u001b[38;5;129;01mnot\u001b[39;00m \u001b[38;5;129;01min\u001b[39;00m plugin_devices:\n\u001b[0;32m    374\u001b[0m         \u001b[38;5;66;03m# Device does not exist in the loaded device list.\u001b[39;00m\n\u001b[0;32m    375\u001b[0m         \u001b[38;5;66;03m# Attempt to refresh the devices, in case the user\u001b[39;00m\n\u001b[0;32m    376\u001b[0m         \u001b[38;5;66;03m# installed the plugin during the current Python session.\u001b[39;00m\n\u001b[0;32m    377\u001b[0m         refresh_devices()\n",
      "File \u001b[1;32mc:\\Users\\lclai\\miniconda3\\envs\\house\\lib\\importlib\\metadata\\__init__.py:171\u001b[0m, in \u001b[0;36mEntryPoint.load\u001b[1;34m(self)\u001b[0m\n\u001b[0;32m    166\u001b[0m \u001b[38;5;250m\u001b[39m\u001b[38;5;124;03m\"\"\"Load the entry point from its definition. If only a module\u001b[39;00m\n\u001b[0;32m    167\u001b[0m \u001b[38;5;124;03mis indicated by the value, return that module. Otherwise,\u001b[39;00m\n\u001b[0;32m    168\u001b[0m \u001b[38;5;124;03mreturn the named object.\u001b[39;00m\n\u001b[0;32m    169\u001b[0m \u001b[38;5;124;03m\"\"\"\u001b[39;00m\n\u001b[0;32m    170\u001b[0m match \u001b[38;5;241m=\u001b[39m \u001b[38;5;28mself\u001b[39m\u001b[38;5;241m.\u001b[39mpattern\u001b[38;5;241m.\u001b[39mmatch(\u001b[38;5;28mself\u001b[39m\u001b[38;5;241m.\u001b[39mvalue)\n\u001b[1;32m--> 171\u001b[0m module \u001b[38;5;241m=\u001b[39m \u001b[43mimport_module\u001b[49m\u001b[43m(\u001b[49m\u001b[43mmatch\u001b[49m\u001b[38;5;241;43m.\u001b[39;49m\u001b[43mgroup\u001b[49m\u001b[43m(\u001b[49m\u001b[38;5;124;43m'\u001b[39;49m\u001b[38;5;124;43mmodule\u001b[39;49m\u001b[38;5;124;43m'\u001b[39;49m\u001b[43m)\u001b[49m\u001b[43m)\u001b[49m\n\u001b[0;32m    172\u001b[0m attrs \u001b[38;5;241m=\u001b[39m \u001b[38;5;28mfilter\u001b[39m(\u001b[38;5;28;01mNone\u001b[39;00m, (match\u001b[38;5;241m.\u001b[39mgroup(\u001b[38;5;124m'\u001b[39m\u001b[38;5;124mattr\u001b[39m\u001b[38;5;124m'\u001b[39m) \u001b[38;5;129;01mor\u001b[39;00m \u001b[38;5;124m'\u001b[39m\u001b[38;5;124m'\u001b[39m)\u001b[38;5;241m.\u001b[39msplit(\u001b[38;5;124m'\u001b[39m\u001b[38;5;124m.\u001b[39m\u001b[38;5;124m'\u001b[39m))\n\u001b[0;32m    173\u001b[0m \u001b[38;5;28;01mreturn\u001b[39;00m functools\u001b[38;5;241m.\u001b[39mreduce(\u001b[38;5;28mgetattr\u001b[39m, attrs, module)\n",
      "File \u001b[1;32mc:\\Users\\lclai\\miniconda3\\envs\\house\\lib\\importlib\\__init__.py:126\u001b[0m, in \u001b[0;36mimport_module\u001b[1;34m(name, package)\u001b[0m\n\u001b[0;32m    124\u001b[0m             \u001b[38;5;28;01mbreak\u001b[39;00m\n\u001b[0;32m    125\u001b[0m         level \u001b[38;5;241m+\u001b[39m\u001b[38;5;241m=\u001b[39m \u001b[38;5;241m1\u001b[39m\n\u001b[1;32m--> 126\u001b[0m \u001b[38;5;28;01mreturn\u001b[39;00m \u001b[43m_bootstrap\u001b[49m\u001b[38;5;241;43m.\u001b[39;49m\u001b[43m_gcd_import\u001b[49m\u001b[43m(\u001b[49m\u001b[43mname\u001b[49m\u001b[43m[\u001b[49m\u001b[43mlevel\u001b[49m\u001b[43m:\u001b[49m\u001b[43m]\u001b[49m\u001b[43m,\u001b[49m\u001b[43m \u001b[49m\u001b[43mpackage\u001b[49m\u001b[43m,\u001b[49m\u001b[43m \u001b[49m\u001b[43mlevel\u001b[49m\u001b[43m)\u001b[49m\n",
      "File \u001b[1;32m<frozen importlib._bootstrap>:1050\u001b[0m, in \u001b[0;36m_gcd_import\u001b[1;34m(name, package, level)\u001b[0m\n",
      "File \u001b[1;32m<frozen importlib._bootstrap>:1027\u001b[0m, in \u001b[0;36m_find_and_load\u001b[1;34m(name, import_)\u001b[0m\n",
      "File \u001b[1;32m<frozen importlib._bootstrap>:1006\u001b[0m, in \u001b[0;36m_find_and_load_unlocked\u001b[1;34m(name, import_)\u001b[0m\n",
      "File \u001b[1;32m<frozen importlib._bootstrap>:688\u001b[0m, in \u001b[0;36m_load_unlocked\u001b[1;34m(spec)\u001b[0m\n",
      "File \u001b[1;32m<frozen importlib._bootstrap_external>:883\u001b[0m, in \u001b[0;36mexec_module\u001b[1;34m(self, module)\u001b[0m\n",
      "File \u001b[1;32m<frozen importlib._bootstrap>:241\u001b[0m, in \u001b[0;36m_call_with_frames_removed\u001b[1;34m(f, *args, **kwds)\u001b[0m\n",
      "File \u001b[1;32mc:\\Users\\lclai\\miniconda3\\envs\\house\\lib\\site-packages\\pennylane\\devices\\default_tensor.py:44\u001b[0m\n\u001b[0;32m     36\u001b[0m \u001b[38;5;28;01mfrom\u001b[39;00m \u001b[38;5;21;01mpennylane\u001b[39;00m\u001b[38;5;21;01m.\u001b[39;00m\u001b[38;5;21;01mmeasurements\u001b[39;00m \u001b[38;5;28;01mimport\u001b[39;00m (\n\u001b[0;32m     37\u001b[0m     ExpectationMP,\n\u001b[0;32m     38\u001b[0m     MeasurementProcess,\n\u001b[1;32m   (...)\u001b[0m\n\u001b[0;32m     41\u001b[0m     VarianceMP,\n\u001b[0;32m     42\u001b[0m )\n\u001b[0;32m     43\u001b[0m \u001b[38;5;28;01mfrom\u001b[39;00m \u001b[38;5;21;01mpennylane\u001b[39;00m\u001b[38;5;21;01m.\u001b[39;00m\u001b[38;5;21;01moperation\u001b[39;00m \u001b[38;5;28;01mimport\u001b[39;00m Observable, Operation, Tensor\n\u001b[1;32m---> 44\u001b[0m \u001b[38;5;28;01mfrom\u001b[39;00m \u001b[38;5;21;01mpennylane\u001b[39;00m\u001b[38;5;21;01m.\u001b[39;00m\u001b[38;5;21;01mops\u001b[39;00m \u001b[38;5;28;01mimport\u001b[39;00m LinearCombination, Prod, SProd, Sum\n\u001b[0;32m     45\u001b[0m \u001b[38;5;28;01mfrom\u001b[39;00m \u001b[38;5;21;01mpennylane\u001b[39;00m\u001b[38;5;21;01m.\u001b[39;00m\u001b[38;5;21;01mtape\u001b[39;00m \u001b[38;5;28;01mimport\u001b[39;00m QuantumScript, QuantumTape\n\u001b[0;32m     46\u001b[0m \u001b[38;5;28;01mfrom\u001b[39;00m \u001b[38;5;21;01mpennylane\u001b[39;00m\u001b[38;5;21;01m.\u001b[39;00m\u001b[38;5;21;01mtemplates\u001b[39;00m\u001b[38;5;21;01m.\u001b[39;00m\u001b[38;5;21;01msubroutines\u001b[39;00m\u001b[38;5;21;01m.\u001b[39;00m\u001b[38;5;21;01mtrotter\u001b[39;00m \u001b[38;5;28;01mimport\u001b[39;00m _recursive_expression\n",
      "\u001b[1;31mImportError\u001b[0m: cannot import name 'LinearCombination' from 'pennylane.ops' (c:\\Users\\lclai\\miniconda3\\envs\\house\\lib\\site-packages\\pennylane\\ops\\__init__.py)"
     ]
    }
   ],
   "source": [
    "import pennylane as qml\n",
    "from pennylane import qchem\n",
    "from pennylane import numpy as np\n",
    "qubits = 8\n",
    "kwargs_mps = {\n",
    "    # Maximum bond dimension of the MPS\n",
    "    \"max_bond_dim\": 50,\n",
    "    # Cutoff parameter for the singular value decomposition\n",
    "    \"cutoff\": np.finfo(np.complex128).eps,\n",
    "    # Contraction strategy to apply gates\n",
    "    \"contract\": \"auto-mps\",\n",
    "}\n",
    "#dev = qml.device(\"default.qubit\", wires=qubits)\n",
    "dev = qml.device(\"default.tensor\", method=\"mps\", **kwargs_mps)\n",
    "from pennylane import numpy as np\n",
    "theta = np.array(0.0, requires_grad = True)\n",
    "electrons = 2\n",
    "hf = qml.qchem.hf_state(electrons,qubits)\n",
    "def circuit(param,wires):\n",
    "    qml.BasisState(hf, wires = wires)\n",
    "    qml.DoubleExcitation(param,wires = [0,1,2,3])"
   ]
  },
  {
   "cell_type": "code",
   "execution_count": null,
   "metadata": {
    "id": "ugsDe79DI6ZM"
   },
   "outputs": [],
   "source": [
    "#opt = qml.GradientDescentOptimizer(stepsize=0.2)\n",
    "opt = qml.AdamOptimizer(stepsize=0.1)"
   ]
  },
  {
   "cell_type": "code",
   "execution_count": 12,
   "metadata": {
    "colab": {
     "base_uri": "https://localhost:8080/"
    },
    "id": "ku8rKjmqWTG5",
    "outputId": "ffac4bfe-f908-4344-eb29-ff9d787aad51"
   },
   "outputs": [
    {
     "name": "stdout",
     "output_type": "stream",
     "text": [
      "Collecting pyscf\n",
      "  Downloading pyscf-2.7.0-py3-none-manylinux_2_17_x86_64.manylinux2014_x86_64.whl.metadata (6.2 kB)\n",
      "Requirement already satisfied: numpy!=1.16,!=1.17,>=1.13 in /usr/local/lib/python3.10/dist-packages (from pyscf) (1.26.4)\n",
      "Requirement already satisfied: scipy>=1.6.0 in /usr/local/lib/python3.10/dist-packages (from pyscf) (1.13.1)\n",
      "Requirement already satisfied: h5py>=2.7 in /usr/local/lib/python3.10/dist-packages (from pyscf) (3.12.1)\n",
      "Requirement already satisfied: setuptools in /usr/local/lib/python3.10/dist-packages (from pyscf) (75.1.0)\n",
      "Downloading pyscf-2.7.0-py3-none-manylinux_2_17_x86_64.manylinux2014_x86_64.whl (48.7 MB)\n",
      "\u001b[2K   \u001b[90m━━━━━━━━━━━━━━━━━━━━━━━━━━━━━━━━━━━━━━━━\u001b[0m \u001b[32m48.7/48.7 MB\u001b[0m \u001b[31m16.1 MB/s\u001b[0m eta \u001b[36m0:00:00\u001b[0m\n",
      "\u001b[?25hInstalling collected packages: pyscf\n",
      "Successfully installed pyscf-2.7.0\n"
     ]
    }
   ],
   "source": [
    "!pip install pyscf"
   ]
  },
  {
   "cell_type": "code",
   "execution_count": null,
   "metadata": {
    "id": "LDcmi0axVYLf"
   },
   "outputs": [],
   "source": [
    "from pennylane.qchem import import_state\n",
    "from pyscf import gto, scf, ci\n",
    "\n",
    "from pyscf import gto, scf\n",
    "\n",
    "symbols = [\"N\", \"H\", \"H\", \"H\"]\n",
    "coordinates = np.array([\n",
    "    [0, 0, 0],\n",
    "    [0, -0.9366, -0.3816],\n",
    "    [0.8121, 0.4689, -0.3816],\n",
    "    [-0.8121, 0.4689, -0.3816]\n",
    "])\n",
    "\n",
    "mol = gto.M(\n",
    "    atom=[(symbols[i], coordinates[i]) for i in range(len(symbols))],\n",
    "    basis='sto-3g',\n",
    "    spin=0,  # Espín total 0\n",
    "    charge=0  # Carga total 0\n",
    ")\n",
    "myhf = scf.RHF(mol).run()\n",
    "myci = ci.CISD(myhf).run()\n",
    "wf_cisd = import_state(myci, tol=1e-1)"
   ]
  },
  {
   "cell_type": "code",
   "execution_count": null,
   "metadata": {
    "colab": {
     "base_uri": "https://localhost:8080/"
    },
    "id": "6uhMrHBFI8yQ",
    "outputId": "46962da9-ce60-4c19-fbc5-3a97d29d401b"
   },
   "outputs": [
    {
     "name": "stderr",
     "output_type": "stream",
     "text": [
      "/usr/local/lib/python3.10/dist-packages/pennylane/ops/qubit/hamiltonian.py:257: PennyLaneDeprecationWarning: Using 'qml.ops.Hamiltonian' with new operator arithmetic is deprecated. Instead, use 'qml.Hamiltonian'. Please visit https://docs.pennylane.ai/en/stable/news/new_opmath.html for more information and help troubleshooting.\n",
      "  warn(\n",
      "/usr/local/lib/python3.10/dist-packages/pennylane/devices/default_tensor.py:678: ComplexWarning: Casting complex values to real discards the imaginary part\n",
      "  str(int(b)) for b in op.parameters[0].astype(self._c_dtype)\n"
     ]
    }
   ],
   "source": [
    "@qml.qnode(dev, interface = \"autograd\")\n",
    "def cost_fn(param):\n",
    "    circuit(param,wires = range(qubits))\n",
    "    return qml.expval(H)\n",
    "# store the values of the cost function\n",
    "energy = [cost_fn(theta)]\n",
    "\n",
    "# store the values of the circuit parameter\n",
    "angle = [theta]\n",
    "\n",
    "max_iterations = 5\n",
    "conv_tol = 1e-06\n",
    "\n",
    "energy = []\n",
    "angle = []\n",
    "\n",
    "for n in range(max_iterations):\n",
    "    theta, prev_energy = opt.step_and_cost(cost_fn, theta, initial_state=wf_cisd)\n",
    "\n",
    "    if len(energy) > 5:  # Mantén solo los últimos 5 valores\n",
    "        energy.pop(0)\n",
    "        angle.pop(0)\n",
    "\n",
    "    energy.append(prev_energy)\n",
    "    angle.append(theta)\n",
    "\n",
    "\n",
    "print(\"\\n\" f\"Final value of the ground-state energy = {energy[-1]:.8f} Ha\")\n",
    "print(\"\\n\" f\"Optimal value of the circuit parameter = {angle[-1]:.4f}\")\n",
    "energy_amoni = energy[-1]\n",
    "print(energy_amoni)"
   ]
  },
  {
   "cell_type": "code",
   "execution_count": null,
   "metadata": {
    "colab": {
     "base_uri": "https://localhost:8080/",
     "height": 453
    },
    "id": "DJ8_pfCFlY6G",
    "outputId": "70cec247-0a0d-4a1e-a799-9b43bc5b3ab3"
   },
   "outputs": [
    {
     "data": {
      "image/png": "[encoded data removed]",
      "text/plain": [
       "<Figure size 640x480 with 1 Axes>"
      ]
     },
     "metadata": {},
     "output_type": "display_data"
    }
   ],
   "source": [
    "import matplotlib.pyplot as plt\n",
    "\n",
    "E_fci = -279.11\n",
    "plt.plot(range(n + 2), energy, \"go\", ls=\"dashed\")\n",
    "plt.plot(range(n + 2), np.full(n + 2, E_fci), color=\"red\")\n",
    "plt.xlabel(\"Optimization step\", fontsize=13)\n",
    "plt.ylabel(\"Energy (Hartree)\", fontsize=13)\n",
    "\n",
    "plt.show()"
   ]
  },
  {
   "cell_type": "code",
   "execution_count": null,
   "metadata": {
    "colab": {
     "base_uri": "https://localhost:8080/",
     "height": 470
    },
    "id": "0CrbOLIml6et",
    "outputId": "c7440bc1-b2ee-4dbb-ddfc-7301a6f2b778"
   },
   "outputs": [
    {
     "data": {
      "text/plain": [
       "Text(0, 0.5, 'Gate parameter $\\\\theta$ (rad)')"
      ]
     },
     "execution_count": 9,
     "metadata": {},
     "output_type": "execute_result"
    },
    {
     "data": {
      "image/png": "[encoded data removed]",
      "text/plain": [
       "<Figure size 640x480 with 1 Axes>"
      ]
     },
     "metadata": {},
     "output_type": "display_data"
    }
   ],
   "source": [
    "plt.plot(range(n + 2), angle, \"go\", ls=\"dashed\")\n",
    "plt.xlabel(\"Optimization step\", fontsize=13)\n",
    "plt.ylabel(\"Gate parameter $\\\\theta$ (rad)\", fontsize=13)"
   ]
  },
  {
   "cell_type": "markdown",
   "metadata": {
    "id": "VnCq_boCm3p3"
   },
   "source": [
    "COORDINATES"
   ]
  },
  {
   "cell_type": "code",
   "execution_count": null,
   "metadata": {
    "colab": {
     "base_uri": "https://localhost:8080/"
    },
    "id": "h9BHBDNVSOfe",
    "outputId": "e1ae5074-0bd9-4f21-d90e-c4ee8ff5c679"
   },
   "outputs": [
    {
     "name": "stdout",
     "output_type": "stream",
     "text": [
      "[1 1 0 0]\n"
     ]
    }
   ],
   "source": [
    "hf = qml.qchem.hf_state(electrons=2, orbitals=4)\n",
    "print(hf)"
   ]
  },
  {
   "cell_type": "code",
   "execution_count": null,
   "metadata": {
    "id": "q1u4vHA0fX_c"
   },
   "outputs": [],
   "source": [
    "num_wires = 8\n",
    "dev = qml.device(\"lightning.qubit\", wires=num_wires)\n",
    "@qml.qnode(dev, interface=\"autograd\")\n",
    "def circuit(params, obs, wires):\n",
    "    qml.BasisState(hf, wires=wires)\n",
    "    qml.DoubleExcitation(params,wires = [0,1,2,3])\n",
    "    return qml.expval(obs)"
   ]
  },
  {
   "cell_type": "code",
   "execution_count": null,
   "metadata": {
    "id": "YJYmYAgrhP9F"
   },
   "outputs": [],
   "source": [
    "def H(x):\n",
    "    return qml.qchem.molecular_hamiltonian(sym, x)[0]\n"
   ]
  },
  {
   "cell_type": "code",
   "execution_count": null,
   "metadata": {
    "id": "Gp0Z0yUBfcru"
   },
   "outputs": [],
   "source": [
    "def cost(params, x):\n",
    "    hamiltonian = H(x)\n",
    "    return circuit(params, obs=hamiltonian, wires=range(num_wires))"
   ]
  },
  {
   "cell_type": "code",
   "execution_count": null,
   "metadata": {
    "id": "sy1KX9xof8Qx"
   },
   "outputs": [],
   "source": [
    "def finite_diff(f, x, delta=0.01):\n",
    "    \"\"\"Compute the central-difference finite difference of a function\"\"\"\n",
    "    gradient = []\n",
    "\n",
    "    for i in range(len(x)):\n",
    "        shift = np.zeros_like(x)\n",
    "        shift[i] += 0.5 * delta\n",
    "        res = (f(x + shift) - f(x - shift)) * delta**-1\n",
    "        gradient.append(res)\n",
    "\n",
    "    return gradient\n",
    "\n",
    "\n",
    "def grad_x(params, x):\n",
    "    grad_h = finite_diff(H, x)\n",
    "    grad = [circuit(params, obs=obs, wires=range(num_wires)) for obs in grad_h]\n",
    "    return np.array(grad)"
   ]
  },
  {
   "cell_type": "code",
   "execution_count": null,
   "metadata": {
    "id": "MByw_pxMgBb1"
   },
   "outputs": [],
   "source": [
    "opt_theta = qml.GradientDescentOptimizer(stepsize=0.4)\n",
    "opt_x = qml.GradientDescentOptimizer(stepsize=0.8)"
   ]
  },
  {
   "cell_type": "code",
   "execution_count": null,
   "metadata": {
    "id": "9a1MXHsXgFLW"
   },
   "outputs": [],
   "source": [
    "from pennylane import numpy as np\n",
    "theta = np.array([0.0, 0.0], requires_grad=True)"
   ]
  },
  {
   "cell_type": "code",
   "execution_count": null,
   "metadata": {
    "id": "O475vZFPgKnv"
   },
   "outputs": [],
   "source": [
    "from functools import partial\n",
    "\n",
    "# store the values of the cost function\n",
    "energy = []\n",
    "\n",
    "# store the values of the bond length\n",
    "bond_length = []\n",
    "\n",
    "# Factor to convert from Bohrs to Angstroms\n",
    "bohr_angs = 0.529177210903\n",
    "\n",
    "for n in range(5):\n",
    "\n",
    "    # Optimize the circuit parameters\n",
    "    theta.requires_grad = True\n",
    "    x.requires_grad = False\n",
    "    theta, _ = opt_theta.step(cost, theta, x)\n",
    "\n",
    "    # Optimize the nuclear coordinates\n",
    "    x.requires_grad = True\n",
    "    theta.requires_grad = False\n",
    "    _, x = opt_x.step(cost, theta, x, grad_fn=grad_x)\n",
    "\n",
    "    energy.append(cost(theta, x))\n",
    "    bond_length.append(np.linalg.norm(x[0:3] - x[3:6]) * bohr_angs)\n",
    "\n",
    "    if n % 4 == 0:\n",
    "        print(f\"Step = {n},  E = {energy[-1]:.8f} Ha,  bond length = {bond_length[-1]:.5f} A\")\n",
    "\n",
    "    # Check maximum component of the nuclear gradient\n",
    "    if np.max(grad_x(theta, x)) <= 1e-05:\n",
    "        break\n",
    "\n",
    "print(\"\\n\" f\"Final value of the ground-state energy = {energy[-1]:.8f} Ha\")\n",
    "print(\"\\n\" \"Ground-state equilibrium geometry\")\n",
    "print(\"%s %4s %8s %8s\" % (\"symbol\", \"x\", \"y\", \"z\"))\n",
    "for i, atom in enumerate(sym):\n",
    "    print(f\"  {atom}    {x[3 * i]:.4f}   {x[3 * i + 1]:.4f}   {x[3 * i + 2]:.4f}\")"
   ]
  }
 ],
 "metadata": {
  "accelerator": "GPU",
  "colab": {
   "gpuType": "T4",
   "provenance": []
  },
  "kernelspec": {
   "display_name": "house",
   "language": "python",
   "name": "python3"
  },
  "language_info": {
   "codemirror_mode": {
    "name": "ipython",
    "version": 3
   },
   "file_extension": ".py",
   "mimetype": "text/x-python",
   "name": "python",
   "nbconvert_exporter": "python",
   "pygments_lexer": "ipython3",
   "version": "3.10.14"
  }
 },
 "nbformat": 4,
 "nbformat_minor": 0
}
