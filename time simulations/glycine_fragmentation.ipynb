{
 "cells": [
  {
   "cell_type": "markdown",
   "metadata": {},
   "source": [
    "Glycine divided into the following molecules according to Pennylane datasets:\n",
    "- CO\n",
    "- OH\n",
    "- CH2\n",
    "- H3N"
   ]
  },
  {
   "cell_type": "code",
   "execution_count": 1,
   "metadata": {},
   "outputs": [],
   "source": [
    "import pennylane as qml\n",
    "\n",
    "def parse_hamiltonian(input_string):\n",
    "    terms = input_string.split('+')\n",
    "    coefficients = []\n",
    "    observables = []\n",
    "    for term in terms:\n",
    "        bracket_start = term.find('[')\n",
    "        bracket_end = term.find(']')\n",
    "        if bracket_start != -1 and bracket_end != -1:\n",
    "            coefficient = float(term[1:bracket_start].strip().replace('(', '').replace(')', ''))  \n",
    "            op = term[bracket_start + 1:bracket_end].strip()\n",
    "            coefficients.append(coefficient)\n",
    "            if op.startswith('I'):\n",
    "                observable = qml.Identity(int(op[1:]))\n",
    "            elif op.startswith('Z'):\n",
    "                observable = qml.PauliZ(int(op[1:]))\n",
    "            observables.append(observable)\n",
    "    hamiltonian = qml.Hamiltonian(coefficients, observables)\n",
    "    return hamiltonian"
   ]
  },
  {
   "cell_type": "code",
   "execution_count": 2,
   "metadata": {},
   "outputs": [],
   "source": [
    "#only the first 10 coeficients ???\n",
    "H3N_string = \"(-26.26943471521906) [I0]+ (0.09640312931255435) [Z10]+ (0.09640312931255435) [Z11]+ (0.2090380082509059) [Z14]+ (0.20903800825090596) [Z15]+ (0.20903800893241595) [Z13]+ (0.20903800893241617) [Z12]+ (1.0617137287315201) [Z9]+ (1.0617137287315204) [Z8]+ (1.1876480803426634) [Z7]\"\n",
    "CO_string = \"(-68.71682341693746) [I0]+ (1.0123810311207575) [Z19]+ (1.0123810311207582) [Z18]+ (1.0915901989337073) [Z12]+ (1.0915901989337078) [Z13]+ (1.0946840882385707) [Z16]+ (1.0946840882385707) [Z17]+ (1.0946840882385709) [Z14]+ (1.0946840882385713) [Z15]+ (1.4912828480575426) [Z10]\"\n",
    "OH_string = \"(-46.737168163199584) [I0] + (0.9042993468617868) [Z10]+ (0.9042993468617868) [Z11] + (1.1738175106319706) [Z4] + (1.1738175106319708) [Z5] + (1.3519259337248126) [Z9]+ (1.3519259337248128) [Z8]+ (1.3519259337256437) [Z6]+ (1.351925933725644) [Z7]+ (1.6080522580438361) [Z3]\"\n",
    "CH2_string = \"(-24.01803924608539) [I0]+ (0.06715870684193287) [Z13]+ (0.06715870684193298) [Z12]+ (0.11775486441472183) [Z11]+ (0.11775486441472197) [Z10]+ (0.404005256496446) [Z9]+ (0.4040052564964463) [Z8]+ (0.4152399806340434) [Z6]+ (0.4152399806340436) [Z7]+ (0.45547409692705754) [Z5]\"\n",
    "H3N = parse_hamiltonian(H3N_string)\n",
    "CO = parse_hamiltonian(CO_string)\n",
    "OH = parse_hamiltonian(OH_string)\n",
    "CH2 = parse_hamiltonian(CH2_string)"
   ]
  },
  {
   "cell_type": "code",
   "execution_count": 3,
   "metadata": {},
   "outputs": [],
   "source": [
    "def num_qubits_from_hamiltonian(hamiltonian):\n",
    "    max_index = 0\n",
    "    for term in hamiltonian.ops:\n",
    "        if isinstance(term, qml.operation.Observable):\n",
    "            for wire in term.wires:\n",
    "                max_index = max(max_index, wire)\n",
    "    num_qubits = max_index + 1\n",
    "    return num_qubits"
   ]
  },
  {
   "cell_type": "code",
   "execution_count": 4,
   "metadata": {},
   "outputs": [],
   "source": [
    "quH3N = num_qubits_from_hamiltonian(H3N)\n",
    "quCO =  num_qubits_from_hamiltonian(CO)\n",
    "quOH = num_qubits_from_hamiltonian(OH)\n",
    "quCH2 = num_qubits_from_hamiltonian(CH2)"
   ]
  },
  {
   "cell_type": "code",
   "execution_count": 7,
   "metadata": {},
   "outputs": [],
   "source": [
    "from pennylane import numpy as np\n",
    "import optax\n",
    "import jax\n",
    "\n",
    "def ground_state_energy(H, qubits):\n",
    "    dev = qml.device(\"lightning.qubit\", wires=qubits)\n",
    "    electrons = 2\n",
    "    hf = qml.qchem.hf_state(electrons, qubits)\n",
    "    @qml.qnode(dev)\n",
    "    def circuit(param, wires):\n",
    "        qml.BasisState(hf, wires=wires)\n",
    "        qml.DoubleExcitation(param, wires=[0,1,2,3])\n",
    "        return qml.expval(H)\n",
    "    def cost_fn(param):\n",
    "        return circuit(param, wires=range(qubits))\n",
    "    max_iterations = 100\n",
    "    conv_tol = 1e-06\n",
    "    opt = optax.sgd(learning_rate=0.4)\n",
    "    theta = np.array(0.)\n",
    "    energy = [cost_fn(theta)]\n",
    "    angle = [theta]\n",
    "    opt_state = opt.init(theta)\n",
    "    for n in range(max_iterations):\n",
    "        gradient = jax.grad(cost_fn)(theta)\n",
    "        updates, opt_state = opt.update(gradient, opt_state)\n",
    "        theta = optax.apply_updates(theta, updates)\n",
    "        angle.append(theta)\n",
    "        energy.append(cost_fn(theta))\n",
    "        conv = np.abs(energy[-1] - energy[-2])\n",
    "        if n % 2 == 0:\n",
    "            print(f\"Step = {n},  Energy = {energy[-1]:.8f} Ha\")\n",
    "        if conv <= conv_tol:\n",
    "            break\n",
    "    return print(\"\\n\" f\"Final value of the ground-state energy = {energy[-1]:.8f} Ha\")"
   ]
  },
  {
   "cell_type": "code",
   "execution_count": 10,
   "metadata": {},
   "outputs": [
    {
     "name": "stdout",
     "output_type": "stream",
     "text": [
      "Step = 0,  Energy = -35.56517792 Ha\n",
      "\n",
      "Final value of the ground-state energy = -35.56517792 Ha\n",
      "Step = 0,  Energy = -21.92940140 Ha\n",
      "\n",
      "Final value of the ground-state energy = -21.92940140 Ha\n",
      "Step = 0,  Energy = -58.63886261 Ha\n",
      "\n",
      "Final value of the ground-state energy = -58.63886261 Ha\n",
      "Step = 0,  Energy = -21.55424690 Ha\n",
      "\n",
      "Final value of the ground-state energy = -21.55424690 Ha\n"
     ]
    }
   ],
   "source": [
    "energyOH = ground_state_energy(OH, quOH)\n",
    "energyH3N = ground_state_energy(H3N, quH3N)\n",
    "energyCO = ground_state_energy(CO, quCO)\n",
    "energyCH2 = ground_state_energy(CH2, quCH2)"
   ]
  },
  {
   "cell_type": "code",
   "execution_count": 13,
   "metadata": {},
   "outputs": [
    {
     "name": "stdout",
     "output_type": "stream",
     "text": [
      "-137.68768883\n"
     ]
    }
   ],
   "source": [
    "glycine =-35.56517792-21.92940140-58.63886261-21.55424690\n",
    "print(glycine)"
   ]
  }
 ],
 "metadata": {
  "kernelspec": {
   "display_name": "envlaia",
   "language": "python",
   "name": "python3"
  },
  "language_info": {
   "codemirror_mode": {
    "name": "ipython",
    "version": 3
   },
   "file_extension": ".py",
   "mimetype": "text/x-python",
   "name": "python",
   "nbconvert_exporter": "python",
   "pygments_lexer": "ipython3",
   "version": "3.12.2"
  }
 },
 "nbformat": 4,
 "nbformat_minor": 2
}
